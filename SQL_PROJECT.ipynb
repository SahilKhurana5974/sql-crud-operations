{
  "nbformat": 4,
  "nbformat_minor": 0,
  "metadata": {
    "colab": {
      "provenance": []
    },
    "kernelspec": {
      "name": "python3",
      "display_name": "Python 3"
    },
    "language_info": {
      "name": "python"
    }
  },
  "cells": [
    {
      "cell_type": "markdown",
      "source": [
        "**CRUD Operations**"
      ],
      "metadata": {
        "id": "RFQAa4XBH8v-"
      }
    },
    {
      "cell_type": "markdown",
      "source": [
        "**1. CREATE DATABASE**"
      ],
      "metadata": {
        "id": "1vHfzQxUID-Y"
      }
    },
    {
      "cell_type": "code",
      "execution_count": null,
      "metadata": {
        "colab": {
          "base_uri": "https://localhost:8080/"
        },
        "id": "EZ_KGWeOHh79",
        "outputId": "2590f2ed-ce94-4e44-d300-7b5b1c4f7970"
      },
      "outputs": [
        {
          "output_type": "stream",
          "name": "stdout",
          "text": [
            "Connected to SQLite database: bookstore.db\n",
            "Books table created.\n"
          ]
        }
      ],
      "source": [
        "import sqlite3\n",
        "\n",
        "#For connecting python and mysql\n",
        "\n",
        "def create_connection(db_file):\n",
        "    \"\"\"Create a database connection to a SQLite database\"\"\"\n",
        "    conn = None\n",
        "    try:\n",
        "        conn = sqlite3.connect(db_file)\n",
        "        print(f\"Connected to SQLite database: {db_file}\")\n",
        "    except sqlite3.Error as e:\n",
        "        print(e)\n",
        "    return conn\n",
        "\n",
        "#Create\n",
        "\n",
        "#3 Steps to execute a query - Create a string with the query, create a cursor and execute the string with cursor\n",
        "\n",
        "def create_table(conn):\n",
        "    #Create a table in the SQLite database\n",
        "    try:\n",
        "        sql_create_books_table = \"\"\"\n",
        "        CREATE TABLE IF NOT EXISTS books (\n",
        "            id INTEGER PRIMARY KEY AUTOINCREMENT,\n",
        "            title TEXT NOT NULL,\n",
        "            author TEXT NOT NULL,\n",
        "            published_date TEXT,\n",
        "            isbn TEXT,\n",
        "            pages INTEGER,\n",
        "            cover TEXT,\n",
        "            language TEXT\n",
        "        );\n",
        "        \"\"\"\n",
        "        cursor = conn.cursor()\n",
        "        cursor.execute(sql_create_books_table)\n",
        "        print(\"Books table created.\")\n",
        "    except sqlite3.Error as e:\n",
        "        print(e)\n",
        "\n",
        "db_file = \"bookstore.db\"\n",
        "conn = create_connection(db_file)\n",
        "if conn:\n",
        "    create_table(conn)"
      ]
    },
    {
      "cell_type": "markdown",
      "source": [
        "**2. READ AND INSERT Operation**"
      ],
      "metadata": {
        "id": "toyhk7P_IJvg"
      }
    },
    {
      "cell_type": "code",
      "source": [
        "def insert_book(conn, book):\n",
        "    \"\"\"Insert a new book into the books table\"\"\"\n",
        "    sql = '''\n",
        "    INSERT INTO books(title, author, published_date, isbn, pages, cover, language)\n",
        "    VALUES(?,?,?,?,?,?,?)\n",
        "    '''\n",
        "    cursor = conn.cursor()\n",
        "    cursor.execute(sql, book)\n",
        "    conn.commit()\n",
        "    return cursor.lastrowid\n",
        "\n",
        "with conn:\n",
        "    book_1 = ('The Catcher in the Rye', 'J.D. Salinger', '1951-07-16', '978-0-316-76948-0', 214, 'Paperback', 'English')\n",
        "    book_2 = ('To Kill a Mockingbird', 'Harper Lee', '1960-07-11', '978-0-06-112008-4', 281, 'Hardcover', 'English')\n",
        "    book_3 = ('Wuthering Heights', 'Emily Bronte', '1847-05-12', '128-0-08-623759-5', 269, 'paperback', 'English')\n",
        "    book_4 = ('The Lord Of The Rings', 'John Ronald', '1937-08-22', '168-7-03-515759-5', 271, 'Hardcover', 'English')\n",
        "    book_5 = ('War & Peace', 'Leo Tolstoy', '1867-08-22', '130-1-12-4567823-6', 150, 'paperback', 'English')\n",
        "    book_6 = ('One Hundred Year Of Solitude ', 'Gabriel Garcia', '1967-12-13', '180-1-11-5256781-2', 160, 'paperback', 'English')\n",
        "\n",
        "    insert_book(conn, book_1)\n",
        "    insert_book(conn, book_2)\n",
        "    insert_book(conn, book_3)\n",
        "    insert_book(conn, book_4)\n",
        "    insert_book(conn, book_5)\n",
        "    insert_book(conn, book_6)\n",
        "    print(\"Books inserted.\")"
      ],
      "metadata": {
        "colab": {
          "base_uri": "https://localhost:8080/"
        },
        "id": "vLuaq581Ho39",
        "outputId": "001e98bb-d4f6-41db-b9bb-9d7359f28e44"
      },
      "execution_count": null,
      "outputs": [
        {
          "output_type": "stream",
          "name": "stdout",
          "text": [
            "Books inserted.\n"
          ]
        }
      ]
    },
    {
      "cell_type": "markdown",
      "source": [
        "**QUERYING ON THE DATABASE**"
      ],
      "metadata": {
        "id": "MKjc6_YeIaqR"
      }
    },
    {
      "cell_type": "code",
      "source": [
        "def select_all_books(conn):\n",
        "    \"\"\"Query all rows in the books table\"\"\"\n",
        "    str1 = \"SELECT * FROM books\"\n",
        "    cursor = conn.cursor()\n",
        "    cursor.execute(str1)\n",
        "    conn.commit\n",
        "\n",
        "    rows = cursor.fetchall()\n",
        "\n",
        "    for row in rows:\n",
        "        print(row)\n",
        "\n",
        "with conn:\n",
        "    print(\"All books in the database:\")\n",
        "    select_all_books(conn)"
      ],
      "metadata": {
        "colab": {
          "base_uri": "https://localhost:8080/"
        },
        "id": "SObmjnTzHxyy",
        "outputId": "f4fc8fce-07da-4edf-a7c1-80a860bfd3bd"
      },
      "execution_count": null,
      "outputs": [
        {
          "output_type": "stream",
          "name": "stdout",
          "text": [
            "All books in the database:\n",
            "(1, 'The Catcher in the Rye', 'J.D. Salinger', '1951-07-16', '978-0-316-76948-0', 214, 'Paperback', 'English')\n",
            "(2, 'To Kill a Mockingbird', 'Harper Lee', '1960-07-11', '978-0-06-112008-4', 281, 'Hardcover', 'English')\n",
            "(3, 'Wuthering Heights', 'Emily Bronte', '1847-05-12', '128-0-08-623759-5', 269, 'paperback', 'English')\n",
            "(4, 'The Lord Of The Rings', 'John Ronald', '1937-08-22', '168-7-03-515759-5', 271, 'Hardcover', 'English')\n",
            "(5, 'War & Peace', 'Leo Tolstoy', '1867-08-22', '130-1-12-4567823-6', 150, 'paperback', 'English')\n",
            "(6, 'One Hundred Year Of Solitude ', 'Gabriel Garcia', '1967-12-13', '180-1-11-5256781-2', 160, 'paperback', 'English')\n"
          ]
        }
      ]
    },
    {
      "cell_type": "markdown",
      "source": [
        "**3. UPDATE OPERATION**"
      ],
      "metadata": {
        "id": "Cq2X8GC8Iu_n"
      }
    },
    {
      "cell_type": "code",
      "source": [
        "def update_book(conn, book):\n",
        "    \"\"\"Update a book by id\"\"\"\n",
        "    sql = '''\n",
        "    UPDATE books\n",
        "    SET title = ?,\n",
        "        author = ?,\n",
        "        published_date = ?,\n",
        "        isbn = ?,\n",
        "        pages = ?,\n",
        "        cover = ?,\n",
        "        language = ?\n",
        "    WHERE id = ?\n",
        "    '''\n",
        "    cursor = conn.cursor()\n",
        "    cursor.execute(sql, book)\n",
        "    conn.commit()\n",
        "\n",
        "with conn:\n",
        "    updated_book = ('The Catcher in the Rye', 'Jerome David Salinger', '1951-07-16', '978-0-316-76948-0', 214, 'Paperback', 'English', 1)\n",
        "    update_book(conn, updated_book)\n",
        "    print(\"Book updated.\")\n",
        "    select_all_books(conn)"
      ],
      "metadata": {
        "colab": {
          "base_uri": "https://localhost:8080/"
        },
        "id": "dOFLlMW5H04W",
        "outputId": "a247b03a-c68d-462e-b4f8-ef36652fbadd"
      },
      "execution_count": null,
      "outputs": [
        {
          "output_type": "stream",
          "name": "stdout",
          "text": [
            "Book updated.\n",
            "(1, 'The Catcher in the Rye', 'Jerome David Salinger', '1951-07-16', '978-0-316-76948-0', 214, 'Paperback', 'English')\n",
            "(2, 'To Kill a Mockingbird', 'Harper Lee', '1960-07-11', '978-0-06-112008-4', 281, 'Hardcover', 'English')\n",
            "(3, 'Wuthering Heights', 'Emily Bronte', '1847-05-12', '128-0-08-623759-5', 269, 'paperback', 'English')\n",
            "(4, 'The Lord Of The Rings', 'John Ronald', '1937-08-22', '168-7-03-515759-5', 271, 'Hardcover', 'English')\n",
            "(5, 'War & Peace', 'Leo Tolstoy', '1867-08-22', '130-1-12-4567823-6', 150, 'paperback', 'English')\n",
            "(6, 'One Hundred Year Of Solitude ', 'Gabriel Garcia', '1967-12-13', '180-1-11-5256781-2', 160, 'paperback', 'English')\n"
          ]
        }
      ]
    },
    {
      "cell_type": "markdown",
      "source": [
        "**4. DELETE OPERATION**"
      ],
      "metadata": {
        "id": "2yPnOmTZIziz"
      }
    },
    {
      "cell_type": "code",
      "source": [
        "def delete_book(conn, id):\n",
        "    \"\"\"Delete a book by id\"\"\"\n",
        "    sql = 'DELETE FROM books WHERE id=?'\n",
        "    cursor = conn.cursor()\n",
        "    cursor.execute(sql, (id,))\n",
        "    conn.commit()\n",
        "\n",
        "with conn:\n",
        "    delete_book(conn, 2)\n",
        "\n",
        "    print(\"Book deleted.\")\n",
        "    select_all_books(conn)"
      ],
      "metadata": {
        "colab": {
          "base_uri": "https://localhost:8080/"
        },
        "id": "nljBxEx2H3n1",
        "outputId": "74d7652c-9a1b-42f3-b375-213494ef676b"
      },
      "execution_count": null,
      "outputs": [
        {
          "output_type": "stream",
          "name": "stdout",
          "text": [
            "Book deleted.\n",
            "(1, 'The Catcher in the Rye', 'Jerome David Salinger', '1951-07-16', '978-0-316-76948-0', 214, 'Paperback', 'English')\n",
            "(3, 'Wuthering Heights', 'Emily Bronte', '1847-05-12', '128-0-08-623759-5', 269, 'paperback', 'English')\n",
            "(4, 'The Lord Of The Rings', 'John Ronald', '1937-08-22', '168-7-03-515759-5', 271, 'Hardcover', 'English')\n",
            "(5, 'War & Peace', 'Leo Tolstoy', '1867-08-22', '130-1-12-4567823-6', 150, 'paperback', 'English')\n",
            "(6, 'One Hundred Year Of Solitude ', 'Gabriel Garcia', '1967-12-13', '180-1-11-5256781-2', 160, 'paperback', 'English')\n"
          ]
        }
      ]
    },
    {
      "cell_type": "code",
      "source": [
        "import pandas as pd\n",
        "from tabulate import tabulate"
      ],
      "metadata": {
        "id": "RMGZgkmZJUut"
      },
      "execution_count": null,
      "outputs": []
    },
    {
      "cell_type": "markdown",
      "source": [
        "**TABULAR FORMAT PRINTING FOR DATABASE - BOOKS TABLE**"
      ],
      "metadata": {
        "id": "Ycf5YXsHJywE"
      }
    },
    {
      "cell_type": "code",
      "source": [
        "def select_all_books(conn):\n",
        "    \"\"\"Query all rows in the books table and display them in a tabular format with '|' separators\"\"\"\n",
        "    cursor = conn.cursor()\n",
        "    cursor.execute(\"SELECT * FROM books\")\n",
        "\n",
        "    rows = cursor.fetchall()\n",
        "\n",
        "    # Define column names - for visualisation on table\n",
        "    columns = ['id', 'title', 'author', 'published_date', 'isbn', 'pages', 'cover', 'language']\n",
        "\n",
        "    # Use tabulate to format the table\n",
        "    table = tabulate(rows, headers=columns, tablefmt='pipe')\n",
        "\n",
        "    # Display the table\n",
        "    print(table)\n",
        "\n",
        "# Query all books and display in tabular format\n",
        "with conn:\n",
        "    print(\"All books in the database:\")\n",
        "    select_all_books(conn)"
      ],
      "metadata": {
        "colab": {
          "base_uri": "https://localhost:8080/"
        },
        "id": "dDlvqfluJVl_",
        "outputId": "9947af1c-19c2-4043-8c8b-7e13e7de6c8c"
      },
      "execution_count": null,
      "outputs": [
        {
          "output_type": "stream",
          "name": "stdout",
          "text": [
            "All books in the database:\n",
            "|   id | title                        | author                | published_date   | isbn               |   pages | cover     | language   |\n",
            "|-----:|:-----------------------------|:----------------------|:-----------------|:-------------------|--------:|:----------|:-----------|\n",
            "|    1 | The Catcher in the Rye       | Jerome David Salinger | 1951-07-16       | 978-0-316-76948-0  |     214 | Paperback | English    |\n",
            "|    3 | Wuthering Heights            | Emily Bronte          | 1847-05-12       | 128-0-08-623759-5  |     269 | paperback | English    |\n",
            "|    4 | The Lord Of The Rings        | John Ronald           | 1937-08-22       | 168-7-03-515759-5  |     271 | Hardcover | English    |\n",
            "|    5 | War & Peace                  | Leo Tolstoy           | 1867-08-22       | 130-1-12-4567823-6 |     150 | paperback | English    |\n",
            "|    6 | One Hundred Year Of Solitude | Gabriel Garcia        | 1967-12-13       | 180-1-11-5256781-2 |     160 | paperback | English    |\n"
          ]
        }
      ]
    }
  ]
}